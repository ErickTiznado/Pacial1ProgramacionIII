{
  "nbformat": 4,
  "nbformat_minor": 0,
  "metadata": {
    "colab": {
      "provenance": [],
      "collapsed_sections": [],
      "include_colab_link": true
    },
    "kernelspec": {
      "name": "python3",
      "display_name": "Python 3"
    },
    "language_info": {
      "name": "python"
    }
  },
  "cells": [
    {
      "cell_type": "markdown",
      "metadata": {
        "id": "view-in-github",
        "colab_type": "text"
      },
      "source": [
        "<a href=\"https://colab.research.google.com/github/ErickTiznado/Pacial1ProgramacionIII/blob/main/Ejercicio1.ipynb\" target=\"_parent\"><img src=\"https://colab.research.google.com/assets/colab-badge.svg\" alt=\"Open In Colab\"/></a>"
      ]
    },
    {
      "cell_type": "markdown",
      "source": [
        "1.Desarrolle un algoritmo en Python que permita obtener los descuentos ISSS, \n",
        "AFP,  I.S.R,  vacaciones,  aguinaldo  etc.  Uno  para  empresas  y  otro  para \n",
        "personas. Favor investigue los datos correspondientes según ley. El usuario \n",
        "deberá ingresar el sueldo y que el sistema le diga el valor neto a pagarle y \n",
        "las deducciones. (30%) \n"
      ],
      "metadata": {
        "id": "-9sAgjFNK1RC"
      }
    },
    {
      "cell_type": "code",
      "source": [
        "sueldo= float(input(\"Escriba su sueldo:\"))\n",
        "deducciones=[3,7.25,30,100,10,20,30]\n",
        "\n",
        "ISSS=(sueldo*deducciones[0])/100\n",
        "AFP=(sueldo*deducciones[1])/100\n",
        "VACACIONES=(sueldo*deducciones[2])/100\n",
        "AGUINALDO=(sueldo*deducciones[3])/100\n",
        "\n",
        "\n",
        "if sueldo>=0.01 and sueldo<=472.00:\n",
        "    print(\"**Deducciones**\")\n",
        "    print(\"ISSS:\",ISSS)\n",
        "    print(\"AFP:\",AFP)\n",
        "    print(\"VACACIONES:\",VACACIONES)\n",
        "    print(\"AGUINALDO:\",AGUINALDO)\n",
        "    print(\"su salario es:\",sueldo)\n",
        "    print(\"ISR: 0.00\")\n",
        "    \n",
        "elif sueldo<=895.24:\n",
        "    totaldescuentos= ISSS+AFP\n",
        "    sueldo = sueldo - totaldescuentos\n",
        "    excendente=sueldo - 472.00\n",
        "    salario_sobre_renta = (excendente*10/100)+17.67\n",
        "    print(\"**Deducciones**\")\n",
        "    print(\"ISSS:\",ISSS)\n",
        "    print(\"AFP:\",AFP)\n",
        "    print(\"VACACIONES:\",VACACIONES)\n",
        "    print(\"AGUINALDO:\",AGUINALDO)\n",
        "    print(\"ISR:\",salario_sobre_renta)\n",
        "    print(\"su salario es:\",sueldo-salario_sobre_renta)\n",
        "      \n",
        "    \n",
        "elif sueldo<=2038.10:\n",
        "    totaldescuentos= ISSS+AFP\n",
        "    sueldo = sueldo - totaldescuentos\n",
        "    excendente=sueldo -895.24 \n",
        "    salario_sobre_renta = (excendente*20/100)+60.00\n",
        "    print(\"**Deducciones**\")\n",
        "    print(\"ISSS:\",ISSS)\n",
        "    print(\"AFP:\",AFP)\n",
        "    print(\"VACACIONES:\",VACACIONES)\n",
        "    print(\"AGUINALDO:\",AGUINALDO)\n",
        "    print(\"ISR:\",salario_sobre_renta)\n",
        "    print(\"su salario es:\",sueldo-salario_sobre_renta)\n",
        "\n",
        "elif sueldo>2038.10:\n",
        "    totaldescuentos= ISSS+AFP\n",
        "    sueldo = sueldo - totaldescuentos\n",
        "    excendente=sueldo -2038.10\n",
        "    salario_sobre_renta = (excendente*30/100)+ 288.57\n",
        "    print(\"**Deducciones**\")\n",
        "    print(\"ISSS:\",ISSS)\n",
        "    print(\"AFP:\",AFP)\n",
        "    print(\"VACACIONES:\",VACACIONES)\n",
        "    print(\"AGUINALDO:\",AGUINALDO)\n",
        "    print(\"ISR:\",salario_sobre_renta)\n",
        "    print(\"su salario es:\",sueldo-salario_sobre_renta)\n",
        "    \n",
        "else:\n",
        "    print(\"libre de impuestos\")\n",
        "\n",
        "\n",
        "    \n",
        "\n",
        "\n",
        "\n",
        "   "
      ],
      "metadata": {
        "id": "IIoROCXXK506",
        "colab": {
          "base_uri": "https://localhost:8080/"
        },
        "outputId": "f627eefd-b2ef-4128-9ca3-7962755c34e5"
      },
      "execution_count": 8,
      "outputs": [
        {
          "output_type": "stream",
          "name": "stdout",
          "text": [
            "Escriba su sueldo:800\n",
            "**Deducciones**\n",
            "ISSS: 24.0\n",
            "AFP: 58.0\n",
            "VACACIONES: 240.0\n",
            "AGUINALDO: 800.0\n",
            "ISR: 42.27\n",
            "su salario es: 675.73\n"
          ]
        }
      ]
    },
    {
      "cell_type": "markdown",
      "source": [
        "Calcular las deducciones salariales de las empresas\n"
      ],
      "metadata": {
        "id": "0Ouc3KTlpHNL"
      }
    },
    {
      "cell_type": "code",
      "source": [
        "sueldo= float(input(\"Escriba su sueldo:\"))\n",
        "deducciones=[7.50,7.75,30,100,10,20,30]\n",
        "\n",
        "ISSS=(sueldo*deducciones[0])/100\n",
        "AFP=(sueldo*deducciones[1])/100\n",
        "VACACIONES=(sueldo*deducciones[2])/100\n",
        "AGUINALDO=(sueldo*deducciones[3])/100\n",
        "\n",
        "\n",
        "if sueldo>=0.01 and sueldo<=472.00:\n",
        "    print(\"**Deducciones**\")\n",
        "    print(\"ISSS:\",ISSS)\n",
        "    print(\"AFP:\",AFP)\n",
        "    print(\"VACACIONES:\",VACACIONES)\n",
        "    print(\"AGUINALDO:\",AGUINALDO)\n",
        "    print(\"su salario es:\",sueldo)\n",
        "    print(\"ISR: 0.00\")\n",
        "    \n",
        "elif sueldo<=895.24:\n",
        "    totaldescuentos= ISSS+AFP\n",
        "    sueldo = sueldo - totaldescuentos\n",
        "    excendente=sueldo - 472.00\n",
        "    salario_sobre_renta = (excendente*10/100)+17.67\n",
        "    print(\"**Deducciones**\")\n",
        "    print(\"ISSS:\",ISSS)\n",
        "    print(\"AFP:\",AFP)\n",
        "    print(\"VACACIONES:\",VACACIONES)\n",
        "    print(\"AGUINALDO:\",AGUINALDO)\n",
        "    print(\"ISR:\",salario_sobre_renta)\n",
        "    print(\"su salario es:\",sueldo-salario_sobre_renta)\n",
        "      \n",
        "    \n",
        "elif sueldo<=2038.10:\n",
        "    totaldescuentos= ISSS+AFP\n",
        "    sueldo = sueldo - totaldescuentos\n",
        "    excendente=sueldo -895.24 \n",
        "    salario_sobre_renta = (excendente*20/100)+60.00\n",
        "    print(\"**Deducciones**\")\n",
        "    print(\"ISSS:\",ISSS)\n",
        "    print(\"AFP:\",AFP)\n",
        "    print(\"VACACIONES:\",VACACIONES)\n",
        "    print(\"AGUINALDO:\",AGUINALDO)\n",
        "    print(\"ISR:\",salario_sobre_renta)\n",
        "    print(\"su salario es:\",sueldo-salario_sobre_renta)\n",
        "\n",
        "elif sueldo>2038.10:\n",
        "    totaldescuentos= ISSS+AFP\n",
        "    sueldo = sueldo - totaldescuentos\n",
        "    excendente=sueldo -2038.10\n",
        "    salario_sobre_renta = (excendente*30/100)+ 288.57\n",
        "    print(\"**Deducciones**\")\n",
        "    print(\"ISSS:\",ISSS)\n",
        "    print(\"AFP:\",AFP)\n",
        "    print(\"VACACIONES:\",VACACIONES)\n",
        "    print(\"AGUINALDO:\",AGUINALDO)\n",
        "    print(\"ISR:\",salario_sobre_renta)\n",
        "    print(\"su salario es:\",sueldo-salario_sobre_renta)\n",
        "    \n",
        "else:\n",
        "    print(\"libre de impuestos\")\n"
      ],
      "metadata": {
        "id": "Bu3vTffXpt0M"
      },
      "execution_count": null,
      "outputs": []
    }
  ]
}